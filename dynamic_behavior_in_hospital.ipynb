{
  "nbformat": 4,
  "nbformat_minor": 0,
  "metadata": {
    "colab": {
      "provenance": []
    },
    "kernelspec": {
      "name": "python3",
      "display_name": "Python 3"
    },
    "language_info": {
      "name": "python"
    }
  },
  "cells": [
    {
      "cell_type": "code",
      "source": [
        "from google.colab import drive\n",
        "drive.mount('/content/drive')"
      ],
      "metadata": {
        "colab": {
          "base_uri": "https://localhost:8080/"
        },
        "id": "gne-Bre-YY8l",
        "outputId": "a2a76206-9b7d-44fd-bb0e-d661a8b5e72b"
      },
      "execution_count": null,
      "outputs": [
        {
          "output_type": "stream",
          "name": "stdout",
          "text": [
            "Drive already mounted at /content/drive; to attempt to forcibly remount, call drive.mount(\"/content/drive\", force_remount=True).\n"
          ]
        }
      ]
    },
    {
      "cell_type": "code",
      "source": [
        "import random\n",
        "import datetime\n",
        "import pandas as pd"
      ],
      "metadata": {
        "id": "EaMEaSNCbH0C"
      },
      "execution_count": null,
      "outputs": []
    },
    {
      "cell_type": "markdown",
      "source": [
        "**Step 1:** Generate Historical Data. Simulate a dataset that contains historical user behavior information. For example, each record stores the employee’s role, department, access timestamp, number of MFA rejections (which we use as a signal for anomaly), and feedback from the last access. We also assign a “behavior score” to indicate risk."
      ],
      "metadata": {
        "id": "vtdWlSr1fwzV"
      }
    },
    {
      "cell_type": "code",
      "source": [
        "!pip install faker"
      ],
      "metadata": {
        "colab": {
          "base_uri": "https://localhost:8080/"
        },
        "id": "RlpVsASm5QGt",
        "outputId": "5ce1b3af-8a68-4a69-ce53-e5c987063cf2"
      },
      "execution_count": null,
      "outputs": [
        {
          "output_type": "stream",
          "name": "stdout",
          "text": [
            "Requirement already satisfied: faker in /usr/local/lib/python3.11/dist-packages (37.0.0)\n",
            "Requirement already satisfied: tzdata in /usr/local/lib/python3.11/dist-packages (from faker) (2025.1)\n"
          ]
        }
      ]
    },
    {
      "cell_type": "code",
      "source": [
        "from faker import Faker"
      ],
      "metadata": {
        "id": "xRhnNLJyA_Cs"
      },
      "execution_count": null,
      "outputs": []
    },
    {
      "cell_type": "code",
      "source": [
        "fake = Faker()\n",
        "\n",
        "def generate_hospital_access_dataset(n):\n",
        "    \"\"\"\n",
        "    Generate simulated historical access data for a hospital environment using Faker.\n",
        "    Each record includes user context and access details, ensuring all users have a valid Employee_ID.\n",
        "    \"\"\"\n",
        "    roles = [\"Doctor\", \"Nurse\", \"Receptionist\", \"Technician\", \"Admin\", \"Patient\", \"Visitor\"]\n",
        "    departments = [\"Emergency\", \"ICU\", \"Radiology\", \"Surgery\", \"Pediatrics\", \"Pharmacy\", \"Laboratory\", \"Records\"]\n",
        "    ip_addresses = [\"10.1.1.10 (Internal)\", \"10.1.1.20 (Internal)\", \"192.168.2.15 (Internal)\",\n",
        "                    \"203.0.113.5 (External)\", \"198.51.100.25 (External)\"]\n",
        "    locations = [\"Main Campus\", \"North Wing\", \"South Wing\", \"East Wing\", \"West Wing\"]\n",
        "\n",
        "    data = []\n",
        "    for _ in range(n):\n",
        "        name = fake.name()\n",
        "        role = random.choice(roles)\n",
        "        department = random.choice(departments)\n",
        "        access_timestamp = datetime.datetime.now() - datetime.timedelta(\n",
        "            days=random.randint(1, 30), hours=random.randint(0, 23)\n",
        "        )\n",
        "        access_outcome = random.choice([\"Allowed\", \"Denied\"])\n",
        "        mfa_failures = random.randint(0, 3)\n",
        "        ip_address = random.choice(ip_addresses)\n",
        "        location = random.choice(locations)\n",
        "        feedback = random.choice([\"Normal\", \"After-hours access\", \"Multiple MFA failures\", \"Unusual access location\"])\n",
        "\n",
        "        # Assign behavior score based on risk factors\n",
        "        behavior_score = round(random.uniform(0.1, 1.0), 2) if access_outcome == \"Denied\" or mfa_failures >= 2 or \"External\" in ip_address else round(random.uniform(0.1, 0.5), 2)\n",
        "\n",
        "        # Generate Employee_ID: Staff gets \"E###\", Patients/Visitors get \"P###\"\n",
        "        if role in [\"Doctor\", \"Nurse\", \"Receptionist\", \"Technician\", \"Admin\"]:\n",
        "            employee_id = f\"E{random.randint(100, 999)}\"\n",
        "        else:  # Patients and Visitors\n",
        "            employee_id = f\"P{random.randint(100, 999)}\"\n",
        "\n",
        "        data.append([employee_id, name, role, department, access_timestamp, access_outcome, mfa_failures, feedback, ip_address, location, behavior_score])\n",
        "\n",
        "    columns = [\"Employee_ID\", \"Name\", \"Role\", \"Department\", \"Access_Timestamp\", \"Access_Outcome\",\n",
        "               \"MFA_Failure_Count\", \"Feedback\", \"IP_Address\", \"Location\", \"Behavior_Score\"]\n",
        "\n",
        "    return pd.DataFrame(data, columns=columns)\n",
        "\n",
        "# Generate dataset for 15 hospital access logs\n",
        "hospital_df = generate_hospital_access_dataset(n=15)\n",
        "\n",
        "print(\"\\nHospital Access Data:\")\n",
        "print(hospital_df.to_string(index=False))\n"
      ],
      "metadata": {
        "colab": {
          "base_uri": "https://localhost:8080/"
        },
        "id": "OzAWAY0H6mPC",
        "outputId": "586f6baf-0d09-448a-cea8-02bbad028eb4"
      },
      "execution_count": null,
      "outputs": [
        {
          "output_type": "stream",
          "name": "stdout",
          "text": [
            "\n",
            "Hospital Access Data:\n",
            "Employee_ID               Name         Role Department           Access_Timestamp Access_Outcome  MFA_Failure_Count                Feedback               IP_Address    Location  Behavior_Score\n",
            "       E159        Jesse Smith Receptionist        ICU 2025-03-03 07:05:04.501771        Allowed                  0 Unusual access location  192.168.2.15 (Internal) Main Campus            0.21\n",
            "       E944      Tracy Russell        Nurse    Records 2025-03-08 08:05:04.502194        Allowed                  0      After-hours access     10.1.1.10 (Internal)   East Wing            0.18\n",
            "       E790    Jennifer Bowers        Admin   Pharmacy 2025-02-10 23:05:04.502523        Allowed                  0   Multiple MFA failures  192.168.2.15 (Internal)  North Wing            0.32\n",
            "       P494     Kaylee Sherman      Visitor  Emergency 2025-02-21 08:05:04.502813        Allowed                  1                  Normal  192.168.2.15 (Internal)   East Wing            0.15\n",
            "       E587   Rebecca Chambers        Admin  Radiology 2025-02-17 21:05:04.513627        Allowed                  3 Unusual access location 198.51.100.25 (External)  North Wing            0.67\n",
            "       P250           Mark Lee      Visitor   Pharmacy 2025-02-15 16:05:04.514050         Denied                  1 Unusual access location     10.1.1.20 (Internal)  North Wing            0.50\n",
            "       E326 Cynthia Taylor PhD   Technician  Emergency 2025-02-20 14:05:04.514375        Allowed                  0 Unusual access location     10.1.1.20 (Internal)  North Wing            0.43\n",
            "       E784       Kevin Harris       Doctor  Radiology 2025-03-08 03:05:04.514674        Allowed                  0 Unusual access location     10.1.1.20 (Internal) Main Campus            0.26\n",
            "       E149      Benjamin Rice   Technician  Emergency 2025-03-07 15:05:04.514941        Allowed                  2   Multiple MFA failures  192.168.2.15 (Internal)   West Wing            0.34\n",
            "       P373     Cheryl Escobar      Patient Laboratory 2025-02-26 05:05:04.515206        Allowed                  0   Multiple MFA failures     10.1.1.10 (Internal)   West Wing            0.14\n",
            "       P190      Sherry Wilson      Visitor Pediatrics 2025-02-22 22:05:04.515460        Allowed                  0 Unusual access location   203.0.113.5 (External)   West Wing            0.55\n",
            "       E177        Edwin Brown Receptionist    Surgery 2025-02-23 09:05:04.515729        Allowed                  3 Unusual access location     10.1.1.20 (Internal)   East Wing            0.33\n",
            "       P699     Richard Harris      Visitor   Pharmacy 2025-03-05 18:05:04.515994        Allowed                  3      After-hours access     10.1.1.20 (Internal)  South Wing            0.33\n",
            "       E765       Michael Wood Receptionist   Pharmacy 2025-02-13 17:05:04.516256        Allowed                  0 Unusual access location  192.168.2.15 (Internal)   East Wing            0.41\n",
            "       E332     Joshua Raymond        Nurse  Radiology 2025-02-21 09:05:04.516509        Allowed                  3                  Normal   203.0.113.5 (External)   East Wing            0.20\n"
          ]
        }
      ]
    },
    {
      "cell_type": "markdown",
      "source": [
        "**Step 2**:create a dataset for access"
      ],
      "metadata": {
        "id": "3qkAm1mifzWl"
      }
    },
    {
      "cell_type": "code",
      "source": [
        "\n",
        "\n",
        "fake = Faker()\n",
        "\n",
        "def generate_employee_dataset(n):\n",
        "    \"\"\"\n",
        "    Generate a simulated employee dataset for a hospital using Faker.\n",
        "    Each record contains personal and professional details of an employee.\n",
        "    \"\"\"\n",
        "    roles = [\"Doctor\", \"Nurse\", \"Receptionist\", \"Technician\", \"Admin\"]\n",
        "    departments = [\"Emergency\", \"ICU\", \"Radiology\", \"Surgery\", \"Pediatrics\", \"Pharmacy\", \"Laboratory\", \"Records\"]\n",
        "\n",
        "    data = []\n",
        "    for _ in range(n):\n",
        "        employee_id = f\"E{random.randint(1, 999):03d}\"\n",
        "        employee_name = fake.name()\n",
        "        employee_role = random.choice(roles)\n",
        "        employee_department = random.choice(departments)\n",
        "        employee_salary = random.randint(50000, 200000)\n",
        "        employee_address = fake.address()\n",
        "        employee_phone = fake.phone_number()\n",
        "\n",
        "        data.append([\n",
        "            employee_id, employee_name, employee_role, employee_department,\n",
        "            employee_salary, employee_address, employee_phone\n",
        "        ])\n",
        "\n",
        "    columns = [\n",
        "        \"Employee_ID\", \"Employee_Name\", \"Employee_Role\", \"Employee_Department\",\n",
        "        \"Employee_Salary\", \"Employee_Address\", \"Employee_Phone\"\n",
        "    ]\n",
        "    return pd.DataFrame(data, columns=columns)\n",
        "\n",
        "def generate_patient_dataset(n):\n",
        "    \"\"\"\n",
        "    Generate a simulated patient dataset for a hospital using Faker.\n",
        "    Each record contains personal and clinical details of a patient.\n",
        "    \"\"\"\n",
        "    illnesses = [\"Flu\", \"COVID-19\", \"Broken Bone\", \"Infection\", \"Hypertension\", \"Diabetes\", \"Cardiac Arrest\"]\n",
        "    insurance_types = [\"Private\", \"Medicare\", \"Medicaid\", \"Self-Pay\", \"Other\"]\n",
        "\n",
        "    data = []\n",
        "    for _ in range(n):\n",
        "        patient_id = f\"P{random.randint(1, 999):03d}\"\n",
        "        patient_name = fake.name()\n",
        "        patient_gender = random.choice([\"Male\", \"Female\"])\n",
        "        patient_age = random.randint(1, 100)\n",
        "        patient_address = fake.address()\n",
        "        patient_phone = fake.phone_number()\n",
        "        patient_illness = random.choice(illnesses)\n",
        "        patient_insurance = random.choice(insurance_types)\n",
        "        admission_date = datetime.datetime.now() - datetime.timedelta(days=random.randint(0, 30))\n",
        "        room_number = random.randint(100, 500)\n",
        "\n",
        "        data.append([\n",
        "            patient_id, patient_name, patient_gender, patient_age,\n",
        "            patient_address, patient_phone, patient_illness, patient_insurance,\n",
        "            admission_date, room_number\n",
        "        ])\n",
        "\n",
        "    columns = [\n",
        "        \"Patient_ID\", \"Patient_Name\", \"Patient_Gender\", \"Patient_Age\",\n",
        "        \"Patient_Address\", \"Patient_Phone\", \"Patient_Illness\", \"Patient_Insurance_Type\",\n",
        "        \"Patient_Admission_Date\", \"Patient_Room_Number\"\n",
        "    ]\n",
        "    return pd.DataFrame(data, columns=columns)\n",
        "\n",
        "# Generate datasets with 20 records each\n",
        "employee_df = generate_employee_dataset(20)\n",
        "patient_df = generate_patient_dataset(20)\n",
        "\n",
        "print(\"\\nEmployee Data\")\n",
        "print(employee_df.to_string(index=False))\n",
        "\n",
        "print(\"\\nPatient Data\")\n",
        "print(patient_df.to_string(index=False))\n"
      ],
      "metadata": {
        "colab": {
          "base_uri": "https://localhost:8080/"
        },
        "id": "sLVLl51t56e4",
        "outputId": "261b48d2-3ee2-4c3b-a600-f641e1ad28db"
      },
      "execution_count": null,
      "outputs": [
        {
          "output_type": "stream",
          "name": "stdout",
          "text": [
            "\n",
            "Employee Data\n",
            "Employee_ID     Employee_Name Employee_Role Employee_Department  Employee_Salary                                         Employee_Address         Employee_Phone\n",
            "       E943    Jessica Murray  Receptionist           Emergency           178792                 0304 Jennifer Lakes\\nSarahview, UT 66084             4229425456\n",
            "       E955       John Wilcox    Technician             Surgery           113860                             USNS Hernandez\\nFPO AE 34195          (690)250-4851\n",
            "       E962    Timothy Gordon         Nurse           Radiology           100151       240 Jennifer Mill Apt. 448\\nTimothyburgh, VI 40486    +1-953-589-9804x759\n",
            "       E976       Cody Cherry  Receptionist          Laboratory           125527                 520 Bishop Manors\\nWilliambury, IN 74063             7142552473\n",
            "       E501    Michael Savage         Admin                 ICU            52783          1207 Torres Cape Suite 385\\nWoodmouth, GU 24957     957.467.6858x94244\n",
            "       E294 Alexander Edwards         Nurse                 ICU           196290                  005 Lori Row\\nLake Andrewberg, LA 81974  001-538-217-9991x1135\n",
            "       E062    Kristin Miller    Technician          Pediatrics           101442    76086 Martinez Stream Suite 505\\nPort Oscar, DE 53476          (439)754-9945\n",
            "       E946        Lori Brown         Nurse            Pharmacy            64422  4865 Michael Field Apt. 005\\nSouth Robertview, WI 94978 001-894-874-0227x06417\n",
            "       E335     Michael Scott         Nurse             Surgery            70056                     363 Hall Fords\\nMorganberg, WY 11295      808.849.0554x9130\n",
            "       E915      Rodney Silva         Admin           Radiology           198522             47704 Dawson Viaduct\\nEast Sabrina, PR 91021       665-756-6891x189\n",
            "       E284      Jesse Wilson         Admin             Surgery            60308   8144 Michelle Orchard Suite 859\\nReginahaven, NC 34598    (863)650-2037x52462\n",
            "       E322      Robert Mejia         Nurse            Pharmacy           121585                805 Williams Loaf\\nRichmondview, NV 18312          (367)493-5095\n",
            "       E889      David Mosley    Technician           Radiology            64929                755 Goodman Way\\nLake Jeremyton, MI 89539       305.756.4431x365\n",
            "       E696  Kristine Jenkins        Doctor           Emergency            60708                   598 Kevin View\\nSouth Regina, NJ 24373      (316)492-3681x007\n",
            "       E873         Anita Lee    Technician          Pediatrics            73029             69609 Garrett Bridge\\nPort Michael, HI 94162      964.947.1409x0009\n",
            "       E593     Adam Marshall         Nurse           Emergency            79068                 094 Tiffany Mall\\nJulieborough, IN 76600           325-794-7840\n",
            "       E536     Joel Castillo         Nurse          Pediatrics           175920                         PSC 6126, Box 9678\\nAPO AP 32893 001-528-959-1868x09452\n",
            "       E949    Robin Harrison    Technician           Emergency           124534              32733 Quinn Radial\\nNorth Bradley, MA 44643     739.237.6379x73414\n",
            "       E520       Emily Clark         Admin           Emergency            96596         667 Jackson Path Apt. 041\\nEast Nicole, VI 14161     614-526-9636x57748\n",
            "       E246     Rachel Turner         Nurse            Pharmacy            74219 7273 Bethany Roads Apt. 103\\nNorth Michaelbury, SC 16670       961-258-8756x293\n",
            "\n",
            "Patient Data\n",
            "Patient_ID       Patient_Name Patient_Gender  Patient_Age                                          Patient_Address         Patient_Phone Patient_Illness Patient_Insurance_Type     Patient_Admission_Date  Patient_Room_Number\n",
            "      P582     Lauren Leblanc         Female            6              2604 Benjamin Coves\\nKimberlybury, NJ 45514     918-942-7824x2032     Broken Bone               Medicaid 2025-02-28 16:05:08.547080                  216\n",
            "      P891    Melissa Stewart         Female           60                         PSC 6327, Box 1472\\nAPO AE 88701 001-369-962-5423x0774     Broken Bone                Private 2025-02-25 16:05:08.547472                  198\n",
            "      P793     Mathew Hensley         Female           48            036 Jessica Extension\\nWilliamsfort, WA 71932      001-515-419-6922    Hypertension               Self-Pay 2025-02-21 16:05:08.548165                  348\n",
            "      P645       Jason Wilson         Female           13                    6657 Amber Square\\nJoelland, OH 87983          464-348-5263    Hypertension                Private 2025-03-01 16:05:08.548748                  286\n",
            "      P494     Richard Nguyen         Female           70          29264 Allison Crescent\\nColtonchester, UT 65376       +1-963-432-9085    Hypertension                  Other 2025-03-07 16:05:08.549361                  495\n",
            "      P776      Troy Sullivan         Female           70       558 Williams Drives Apt. 762\\nDeannafurt, AR 06185   (689)739-2642x46647             Flu               Self-Pay 2025-03-10 16:05:08.550011                  311\n",
            "      P156        Dawn Carter           Male           74       605 Marshall Spur Suite 534\\nLake Angela, NY 54272  +1-255-571-3148x3729        Diabetes               Medicaid 2025-03-08 16:05:08.550681                  284\n",
            "      P223   Christopher Gray         Female           16 20439 Vincent Wells Apt. 783\\nLake Deannahaven, RI 28835    (583)814-3908x8039     Broken Bone                Private 2025-03-05 16:05:08.551327                  423\n",
            "      P913       Carlos Stone           Male            3            0659 Linda Mills Suite 887\\nEvanton, SC 30456      001-247-451-5586       Infection                Private 2025-02-12 16:05:08.557915                  131\n",
            "      P369       William Lane           Male           21 2520 Burton Islands Apt. 244\\nPort Robertshire, MD 60921          987.782.3781     Broken Bone                Private 2025-02-11 16:05:08.558696                  370\n",
            "      P758       Andrea Jones         Female           70                         PSC 4931, Box 0081\\nAPO AA 19057   +1-304-431-8836x933        COVID-19               Medicaid 2025-02-27 16:05:08.559048                  373\n",
            "      P112 Nathaniel Sullivan         Female           78                         Unit 2104 Box 8808\\nDPO AP 64074   (563)582-6806x05124             Flu               Medicaid 2025-03-11 16:05:08.559349                  219\n",
            "      P394       Kevin Burton           Male           90           6409 Taylor Lane Apt. 497\\nLongmouth, KY 54667      342-667-2193x222             Flu               Self-Pay 2025-03-13 16:05:08.559992                  468\n",
            "      P720       Thomas Smith           Male            7                     845 Rocha Skyway\\nTommouth, SC 82335     933-922-8983x0379       Infection               Self-Pay 2025-03-11 16:05:08.560593                  410\n",
            "      P029      Joshua Cooper         Female           56              78967 Smith Fall\\nPort Kaylamouth, ND 59535    871.776.8937x53134    Hypertension               Medicare 2025-03-13 16:05:08.561198                  110\n",
            "      P618      John Sullivan         Female           39      085 Horton Vista Apt. 204\\nNorth Jennifer, WA 28399   (357)356-2729x60318        Diabetes                  Other 2025-02-13 16:05:08.561809                  164\n",
            "      P147        John Morton           Male           74    94882 Julie Village Suite 544\\nJenniferberg, IA 41274          895-421-3357             Flu               Self-Pay 2025-02-25 16:05:08.562449                  484\n",
            "      P338      Amanda Powers           Male           62                             USNS Henderson\\nFPO AA 73549     416-280-5466x2649        COVID-19               Self-Pay 2025-02-26 16:05:08.562929                  298\n",
            "      P434       Rachel Burke           Male           41         75925 Shelby Mall Suite 599\\nKingmouth, NM 40583    (557)285-4900x6053             Flu                Private 2025-02-22 16:05:08.563544                  129\n",
            "      P013    Jennifer Harris           Male           64           8054 Kelly Parkway Apt. 583\\nJohnton, VT 05950      001-823-337-0846  Cardiac Arrest                  Other 2025-02-20 16:05:08.564117                  183\n"
          ]
        }
      ]
    },
    {
      "cell_type": "markdown",
      "source": [
        "**Step 3:** Convert Historical Data to Embeddings: To use the LLM and perform similarity searches, we need to convert each historical record into a text summary and then create an embedding (a numerical vector) from that text. We use the SentenceTransformer model to do this. Then, we store all the embeddings in FAISS (a vector database) for efficient similarity search."
      ],
      "metadata": {
        "id": "UUH3HKb4f-mk"
      }
    },
    {
      "cell_type": "code",
      "source": [
        "!pip install -q sentence_transformers\n",
        "from sentence_transformers import SentenceTransformer"
      ],
      "metadata": {
        "id": "vhro9V8lg3jE"
      },
      "execution_count": null,
      "outputs": []
    },
    {
      "cell_type": "code",
      "source": [
        "!pip install -q faiss-cpu\n",
        "import faiss\n",
        "import numpy as np\n",
        "\n",
        "# Define the dimension of the embeddings (depends on the SentenceTransformer model used)\n",
        "embedding_dim = 768  # Most BERT-based models use 768 dimensions\n",
        "\n",
        "# Create a FAISS index for similarity search\n",
        "faiss_index = faiss.IndexFlatL2(embedding_dim)  # L2 distance (Euclidean)"
      ],
      "metadata": {
        "id": "9eaGddN4g7CM"
      },
      "execution_count": null,
      "outputs": []
    },
    {
      "cell_type": "code",
      "source": [
        "def create_text_summary(employee_id, role, department, mfa_failures, feedback, ip_address, location, behavior_score, access_outcome):\n",
        "    \"\"\"\n",
        "    Generate a structured text summary focused on security patterns.\n",
        "    \"\"\"\n",
        "    time_context = \"After-Hours\" if datetime.datetime.now().hour not in range(8, 18) else \"Normal Hours\"\n",
        "    ip_type = \"External\" if \"External\" in ip_address else \"Internal\"\n",
        "    risk_context = f\"High-Risk (Score: {behavior_score:.2f})\" if behavior_score > 0.5 else f\"Low-Risk (Score: {behavior_score:.2f})\"\n",
        "\n",
        "    return (\n",
        "        f\"Role: {role} | Department: {department} | \"\n",
        "        f\"Access Outcome: {access_outcome} | \"\n",
        "        f\"MFA Failures: {mfa_failures} | IP Type: {ip_type} | \"\n",
        "        f\"Location: {location} | Time: {time_context} | \"\n",
        "        f\"Risk: {risk_context}\"\n",
        "    )"
      ],
      "metadata": {
        "id": "cjYZD49UBuo3"
      },
      "execution_count": null,
      "outputs": []
    },
    {
      "cell_type": "code",
      "source": [
        "# Load the SentenceTransformer model (e.g., 'all-mpnet-base-v2')\n",
        "embedding_model = SentenceTransformer('all-mpnet-base-v2') # This line is crucial\n",
        "\n",
        "# Use Inner Product (cosine similarity) instead of L2\n",
        "embedding_dim = 768\n",
        "faiss_index = faiss.IndexFlatIP(embedding_dim)  # Inner Product = Cosine when normalized\n",
        "\n",
        "# Generate normalized embeddings\n",
        "hospital_df[\"Embedding\"] = hospital_df.apply(\n",
        "    lambda row: embedding_model.encode(\n",
        "        create_text_summary(\n",
        "            row['Employee_ID'], row['Role'], row['Department'],\n",
        "            row['MFA_Failure_Count'], row['Feedback'],\n",
        "            row['IP_Address'], row['Location'],\n",
        "            row['Behavior_Score'], row['Access_Outcome']\n",
        "        ),\n",
        "        convert_to_numpy=True\n",
        "    ),\n",
        "    axis=1\n",
        ")\n",
        "\n",
        "# Normalize embeddings before adding to FAISS\n",
        "embeddings = np.vstack(hospital_df[\"Embedding\"].values).astype('float32')\n",
        "faiss.normalize_L2(embeddings)  # Critical for cosine similarity\n",
        "faiss_index.add(embeddings)\n",
        "print(\"\\nFAISS index created with historical embeddings.\")"
      ],
      "metadata": {
        "colab": {
          "base_uri": "https://localhost:8080/"
        },
        "id": "UpqonHcoNroO",
        "outputId": "22fbf10b-9843-4c6d-e659-4f29d2a1cef6"
      },
      "execution_count": null,
      "outputs": [
        {
          "output_type": "stream",
          "name": "stdout",
          "text": [
            "\n",
            "FAISS index created with historical embeddings.\n"
          ]
        }
      ]
    },
    {
      "cell_type": "markdown",
      "source": [
        " **Process a Real-Time Access Request:** When a new user requests access, we capture the request details (Name, role, department, timestamp, MFA failures, IP, location, etc.), convert this information into a text summary, and generate an embedding. Then we use the FAISS index to retrieve the most similar historical records, which provide context for typical behavior."
      ],
      "metadata": {
        "id": "8WUM40SVG_He"
      }
    },
    {
      "cell_type": "code",
      "source": [
        "def process_realtime_request(realtime_request, historical_df, faiss_index, embedding_model):\n",
        "    \"\"\"\n",
        "    Processes real-time access requests with security context awareness.\n",
        "    Returns summary, similar records, and risk assessment.\n",
        "    \"\"\"\n",
        "    try:\n",
        "        # 1. Validate input structure\n",
        "        required_fields = ['Employee_ID', 'Role', 'Department', 'Geo_Location',\n",
        "                          'IP_Address & Network_Info', 'MFA_Failure_Count']\n",
        "        for field in required_fields:\n",
        "            if field not in realtime_request:\n",
        "                raise ValueError(f\"Missing required field: {field}\")\n",
        "\n",
        "        # 2. Create security-focused text summary\n",
        "        security_context = (\n",
        "            f\"Role: {realtime_request['Role']} | \"\n",
        "            f\"Department: {realtime_request['Department']} | \"\n",
        "            f\"Location: {realtime_request['Geo_Location']} | \"\n",
        "            f\"Network: {realtime_request['IP_Address & Network_Info']} | \"\n",
        "            f\"MFA Failures: {realtime_request['MFA_Failure_Count']}\"\n",
        "        )\n",
        "\n",
        "        # 3. Generate and normalize embedding\n",
        "        embedding = embedding_model.encode([security_context])\n",
        "        embedding = np.array(embedding).astype(\"float32\")\n",
        "        faiss.normalize_L2(embedding)  # For cosine similarity\n",
        "\n",
        "        # 4. Similarity search with safety checks\n",
        "        k = min(3, len(historical_df))  # Never request more records than available\n",
        "        distances, indices = faiss_index.search(embedding, k)\n",
        "\n",
        "        # 5. Process results\n",
        "        if indices.size == 0 or indices[0][0] < 0:\n",
        "            return security_context, pd.DataFrame(), \"No similar records found\"\n",
        "\n",
        "        similar_records = historical_df.iloc[indices[0]].copy()\n",
        "        similar_records['Similarity_Score'] = 1 - distances[0]  # Convert L2 distance to similarity\n",
        "\n",
        "        # 6. Risk assessment\n",
        "        avg_risk = similar_records['Behavior_Score'].mean()\n",
        "        risk_status = \"HIGH RISK\" if avg_risk > 0.7 else \"MEDIUM RISK\" if avg_risk > 0.4 else \"LOW RISK\"\n",
        "\n",
        "        return security_context, similar_records, risk_status\n",
        "\n",
        "    except Exception as e:\n",
        "        print(f\"Error processing request: {str(e)}\")\n",
        "        return security_context, pd.DataFrame(), \"Error in processing\"\n",
        "\n",
        "# Example usage\n",
        "realtime_request = {\n",
        "    \"Employee_ID\": \"E10\",\n",
        "    \"Role\": \"IT Specialist\",\n",
        "    \"Department\": \"Information Technology\",\n",
        "    \"Geo_Location\": \"Berlin Campus\",\n",
        "    \"IP_Address & Network_Info\": \"External (203.0.113.42)\",\n",
        "    \"MFA_Failure_Count\": 2\n",
        "}\n",
        "\n",
        "# Sample historical dataframe structure\n",
        "historical_df = pd.DataFrame({\n",
        "    \"Employee_ID\": [\"E123\", \"E456\", \"E789\"],\n",
        "    \"Access_Timestamp\": [pd.Timestamp.now() - pd.Timedelta(days=x) for x in [1, 2, 3]],\n",
        "    \"MFA_Failure_Count\": [1, 3, 0],\n",
        "    \"Behavior_Score\": [0.3, 0.8, 0.2],\n",
        "    \"IP_Address\": [\"Internal\", \"External\", \"Internal\"]\n",
        "})\n",
        "\n",
        "# Initialize FAISS index (should be pre-trained on historical data)\n",
        "embedding_dim = 768\n",
        "faiss_index = faiss.IndexFlatL2(embedding_dim)\n",
        "\n",
        "# Process request\n",
        "context, records, risk = process_realtime_request(\n",
        "    realtime_request,\n",
        "    historical_df,\n",
        "    faiss_index,\n",
        "    embedding_model\n",
        ")\n",
        "\n",
        "# Output results\n",
        "print(\"\\n🔒 Security Context:\")\n",
        "print(context)\n",
        "\n",
        "if not records.empty:\n",
        "    print(\"\\n📋 Similar Historical Records:\")\n",
        "    print(records[[\"Employee_ID\", \"Access_Timestamp\", \"MFA_Failure_Count\",\n",
        "                 \"Behavior_Score\", \"Similarity_Score\"]].to_string(index=False))\n",
        "\n",
        "print(f\"\\n🚨 Risk Assessment: {risk}\")"
      ],
      "metadata": {
        "colab": {
          "base_uri": "https://localhost:8080/"
        },
        "id": "rR2j8CFgTbM8",
        "outputId": "1df80711-85c1-4fef-dfc6-528c8871fba0"
      },
      "execution_count": null,
      "outputs": [
        {
          "output_type": "stream",
          "name": "stdout",
          "text": [
            "\n",
            "🔒 Security Context:\n",
            "Role: IT Specialist | Department: Information Technology | Location: Berlin Campus | Network: External (203.0.113.42) | MFA Failures: 2\n",
            "\n",
            "🚨 Risk Assessment: No similar records found\n"
          ]
        }
      ]
    }
  ]
}